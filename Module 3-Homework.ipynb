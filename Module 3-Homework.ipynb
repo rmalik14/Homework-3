{
 "cells": [
  {
   "cell_type": "markdown",
   "metadata": {},
   "source": [
    "### Exercise 1\n",
    "Ask a user for 5 names and place each one in to a list called <i>names</i>. Then, print <i>names</i>."
   ]
  },
  {
   "cell_type": "code",
   "execution_count": 2,
   "metadata": {},
   "outputs": [
    {
     "name": "stdout",
     "output_type": "stream",
     "text": [
      "Give me a name: Aaron\n",
      "Give me a name: Shaun\n",
      "Give me a name: Bryan\n",
      "Give me a name: Ryan\n",
      "Give me a name: Daniel\n",
      "['Aaron', 'Shaun', 'Bryan', 'Ryan', 'Daniel']\n"
     ]
    }
   ],
   "source": [
    "name1 = str(input(\"Give me a name: \"))\n",
    "name2 = str(input(\"Give me a name: \"))\n",
    "name3 = str(input(\"Give me a name: \"))\n",
    "name4 = str(input(\"Give me a name: \"))\n",
    "name5 = str(input(\"Give me a name: \"))\n",
    "\n",
    "names = [name1,name2,name3,name4,name5]\n",
    "print(names)"
   ]
  },
  {
   "cell_type": "markdown",
   "metadata": {},
   "source": [
    "### Exercise 2\n",
    "Print out a randomly selected name in the names list."
   ]
  },
  {
   "cell_type": "code",
   "execution_count": 3,
   "metadata": {},
   "outputs": [
    {
     "name": "stdout",
     "output_type": "stream",
     "text": [
      "Bryan\n"
     ]
    }
   ],
   "source": [
    "import random as rand\n",
    "print(rand.choice(names))"
   ]
  },
  {
   "cell_type": "markdown",
   "metadata": {},
   "source": [
    "### Exercise 3\n",
    "\n",
    "Ask a user for a specific color and store that value into a variable. If the answer is gray, print \"You found Victor's favorite color!\". If the answer is anything besides gray, print \"[color name] is not Victor's favorite color.\""
   ]
  },
  {
   "cell_type": "code",
   "execution_count": null,
   "metadata": {},
   "outputs": [],
   "source": [
    "favorite_color = str(input(\"Enter a color: \"))\n",
    "if \"favorite_color\" == \"gray\":\n",
    "    print(\"You found Victor's favorite color!\")\n",
    "else:\n",
    "    print(f\"{favorite_color} is not Victor's favorite color\")"
   ]
  },
  {
   "cell_type": "markdown",
   "metadata": {},
   "source": [
    "### Exercise 4\n",
    "Ask for an exam score and store that number. If the number is greater than 100, then print out 'You cannot have an exam score higher than 100'. If the number doesn't exceeed 100 but is greater than or equal to 75, then print out 'You did great on your exam!'. Otherwise if they scored lower than 75, then print out 'You need to study harder'."
   ]
  },
  {
   "cell_type": "code",
   "execution_count": 70,
   "metadata": {},
   "outputs": [
    {
     "name": "stdout",
     "output_type": "stream",
     "text": [
      "What was your exam score?: 3\n",
      "You need to study harder\n"
     ]
    }
   ],
   "source": [
    "score = int(input(\"What was your exam score?: \"))\n",
    "if score > 100:\n",
    "    print(\"You cannot have an exam score higher than 100\")\n",
    "elif score >= 75 and score < 100:\n",
    "    print(\"You did great on your exam!\")\n",
    "else:\n",
    "    print(\"You need to study harder\")"
   ]
  },
  {
   "cell_type": "markdown",
   "metadata": {},
   "source": [
    "### Exercise 5\n",
    "Write a function to convert a test score to a grade where  \n",
    " - 90 - 100: A\n",
    " - 80 - 89:  B\n",
    " - 70 - 79:  C\n",
    " - 60 - 69:  D\n",
    " - < 60   :  F\n",
    " \n",
    "If a score is not between 0 and 100 then print out an error message. In the program, ask the user for a score and then call your function. "
   ]
  },
  {
   "cell_type": "markdown",
   "metadata": {},
   "source": [
    "### def test_score(score):\n",
    "    if score <= 0:\n",
    "        print('error')\n",
    "    if score  >= 100:\n",
    "        print('error')"
   ]
  },
  {
   "cell_type": "code",
   "execution_count": 40,
   "metadata": {},
   "outputs": [
    {
     "name": "stdout",
     "output_type": "stream",
     "text": [
      "error\n"
     ]
    }
   ],
   "source": [
    "test_score(1001)"
   ]
  },
  {
   "cell_type": "code",
   "execution_count": 41,
   "metadata": {},
   "outputs": [
    {
     "name": "stdout",
     "output_type": "stream",
     "text": [
      "error\n"
     ]
    }
   ],
   "source": [
    "test_score(-1)"
   ]
  }
 ],
 "metadata": {
  "kernelspec": {
   "display_name": "Python 3",
   "language": "python",
   "name": "python3"
  }
 },
 "nbformat": 4,
 "nbformat_minor": 4
}
